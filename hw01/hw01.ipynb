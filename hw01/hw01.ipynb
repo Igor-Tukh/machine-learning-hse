{
 "cells": [
  {
   "cell_type": "markdown",
   "metadata": {},
   "source": [
    "# HSE 2019 ML (bachelors 3rd course)\n",
    "## Homework #1\n",
    "### Student: Igor Tukh"
   ]
  },
  {
   "cell_type": "code",
   "execution_count": 59,
   "metadata": {},
   "outputs": [],
   "source": [
    "import numpy as np\n",
    "import pandas as pd\n",
    "import matplotlib.pyplot as plt\n",
    "import os\n",
    "\n",
    "from collections import defaultdict\n",
    "from tqdm import tqdm_notebook as tqdm\n",
    "from sklearn.preprocessing import MinMaxScaler"
   ]
  },
  {
   "cell_type": "code",
   "execution_count": 2,
   "metadata": {},
   "outputs": [],
   "source": [
    "DATASETS_DIR = 'datasets'\n",
    "DATASETS = ['cancer.csv', 'spam.csv', 'blobs.csv']"
   ]
  },
  {
   "cell_type": "code",
   "execution_count": 12,
   "metadata": {},
   "outputs": [],
   "source": [
    "def load_csv_dataset(dataset_path, label_name='label'):\n",
    "    if label_name is not None:\n",
    "        dataset = pd.read_csv(dataset_path)\n",
    "        data_columns = np.array([name for name in dataset.columns if name != label_name])\n",
    "        return dataset[label_name], dataset[data_columns]"
   ]
  },
  {
   "cell_type": "markdown",
   "metadata": {},
   "source": [
    "#### 1) (8 points) Implement the kNN algorithm and calculate Leave-one-out error on both datasets for 1 to 10 neighbors.\n"
   ]
  },
  {
   "cell_type": "code",
   "execution_count": 41,
   "metadata": {},
   "outputs": [],
   "source": [
    "def get_k_nearest_indexes(from_point, to_points, k):\n",
    "    dist_square = lambda x: np.sum((from_point - x) ** 2)\n",
    "    dists = np.array([dist_square(point) for point in to_points])\n",
    "    return dists.argsort()[:k]"
   ]
  },
  {
   "cell_type": "code",
   "execution_count": 45,
   "metadata": {},
   "outputs": [],
   "source": [
    "def kNN(point, points, points_labels, k, nearest_neighbors=None):\n",
    "    affinities = defaultdict(lambda:0)\n",
    "    nearest_neighbors = get_k_nearest_indexes(point, points, k) if nearest_neighbors is None else nearest_neighbors[:k]\n",
    "    for neighbor_ind in nearest_neighbors:\n",
    "        affinities[points_labels[neighbor_ind]] += 1\n",
    "    result_label = None\n",
    "    max_label_value = 0\n",
    "    for label, value in affinities.items():\n",
    "        if max_label_value < value:\n",
    "            result_label = label\n",
    "            max_label_value = value\n",
    "    return result_label "
   ]
  },
  {
   "cell_type": "code",
   "execution_count": 61,
   "metadata": {},
   "outputs": [],
   "source": [
    "def get_LOO(dataset_path, max_k, scale=False):\n",
    "    labels, data = load_csv_dataset(dataset_path)\n",
    "    if scale:\n",
    "        index = data.index\n",
    "        columns = data.columns\n",
    "        scaler = MinMaxScaler()\n",
    "        data = pd.DataFrame(data = scaler.fit_transform(data), index=index, columns=columns)\n",
    "    LOO = defaultdict(lambda:0)\n",
    "    dataset_len = labels.shape[0]\n",
    "    for ind in tqdm(range(dataset_len)):\n",
    "        points_labels = pd.concat([labels[:ind], labels[ind+1:]]).to_numpy()\n",
    "        points = pd.concat([data[:ind], data[ind+1:]]).to_numpy()\n",
    "        point = data.iloc[ind].to_numpy()\n",
    "        label = labels.iloc[ind]\n",
    "        nearest_neighbors = get_k_nearest_indexes(point, points, max_k)\n",
    "        for k in reversed(range(1, max_k + 1)):\n",
    "            kNN_label = kNN(point, points, points_labels, k, nearest_neighbors)\n",
    "            if kNN_label != label:\n",
    "                LOO[k] += 1\n",
    "    for k in range(1, max_k + 1):\n",
    "        LOO[k] = 1.0 * LOO[k] / dataset_len\n",
    "        print('dataset {}: k = {}, LOO = {}'.format(dataset_path, k, 1.0 * LOO[k]))\n",
    "    return LOO"
   ]
  },
  {
   "cell_type": "code",
   "execution_count": 63,
   "metadata": {},
   "outputs": [],
   "source": [
    "results = []"
   ]
  },
  {
   "cell_type": "code",
   "execution_count": 64,
   "metadata": {},
   "outputs": [
    {
     "data": {
      "application/vnd.jupyter.widget-view+json": {
       "model_id": "9a3291d0d303440aaba8dcc8eafc3e16",
       "version_major": 2,
       "version_minor": 0
      },
      "text/plain": [
       "HBox(children=(IntProgress(value=0, max=569), HTML(value='')))"
      ]
     },
     "metadata": {},
     "output_type": "display_data"
    },
    {
     "name": "stdout",
     "output_type": "stream",
     "text": [
      "\n",
      "dataset datasets/cancer.csv: k = 1, LOO = 0.0843585237258348\n",
      "dataset datasets/cancer.csv: k = 2, LOO = 0.0843585237258348\n",
      "dataset datasets/cancer.csv: k = 3, LOO = 0.07381370826010544\n",
      "dataset datasets/cancer.csv: k = 4, LOO = 0.07381370826010544\n",
      "dataset datasets/cancer.csv: k = 5, LOO = 0.06678383128295255\n",
      "dataset datasets/cancer.csv: k = 6, LOO = 0.070298769771529\n",
      "dataset datasets/cancer.csv: k = 7, LOO = 0.06854130052724078\n",
      "dataset datasets/cancer.csv: k = 8, LOO = 0.06854130052724078\n",
      "dataset datasets/cancer.csv: k = 9, LOO = 0.06678383128295255\n",
      "dataset datasets/cancer.csv: k = 10, LOO = 0.06854130052724078\n"
     ]
    },
    {
     "data": {
      "application/vnd.jupyter.widget-view+json": {
       "model_id": "d8517edcf18f4ed8918e7afe018650aa",
       "version_major": 2,
       "version_minor": 0
      },
      "text/plain": [
       "HBox(children=(IntProgress(value=0, max=4601), HTML(value='')))"
      ]
     },
     "metadata": {},
     "output_type": "display_data"
    },
    {
     "name": "stdout",
     "output_type": "stream",
     "text": [
      "\n",
      "dataset datasets/spam.csv: k = 1, LOO = 0.16931101934362094\n",
      "dataset datasets/spam.csv: k = 2, LOO = 0.16931101934362094\n",
      "dataset datasets/spam.csv: k = 3, LOO = 0.18561182351662683\n",
      "dataset datasets/spam.csv: k = 4, LOO = 0.17344055640078243\n",
      "dataset datasets/spam.csv: k = 5, LOO = 0.1858291675722669\n",
      "dataset datasets/spam.csv: k = 6, LOO = 0.1767007172353836\n",
      "dataset datasets/spam.csv: k = 7, LOO = 0.1958269941317105\n",
      "dataset datasets/spam.csv: k = 8, LOO = 0.18235166268202566\n",
      "dataset datasets/spam.csv: k = 9, LOO = 0.20256465985655292\n",
      "dataset datasets/spam.csv: k = 10, LOO = 0.18713323190610737\n"
     ]
    }
   ],
   "source": [
    "for dataset in DATASETS[:2]:\n",
    "    results.append((dataset, get_LOO(os.path.join(DATASETS_DIR, dataset), 10)))"
   ]
  },
  {
   "cell_type": "markdown",
   "metadata": {},
   "source": [
    "#### 2) (2 points) Scale all features with MinMax scaler to [0,1] and calculate Leave-one-out error on both datasets for 1 to 10 neighbors."
   ]
  },
  {
   "cell_type": "markdown",
   "metadata": {},
   "source": [
    "The task statementd doesn't say that we have to implement MinMaxScaler, so I'll use one from `sklearn`"
   ]
  },
  {
   "cell_type": "code",
   "execution_count": 65,
   "metadata": {},
   "outputs": [
    {
     "data": {
      "application/vnd.jupyter.widget-view+json": {
       "model_id": "098b4ff2cb054e0fb0d3473972a38a5a",
       "version_major": 2,
       "version_minor": 0
      },
      "text/plain": [
       "HBox(children=(IntProgress(value=0, max=569), HTML(value='')))"
      ]
     },
     "metadata": {},
     "output_type": "display_data"
    },
    {
     "name": "stdout",
     "output_type": "stream",
     "text": [
      "\n",
      "dataset datasets/cancer.csv: k = 1, LOO = 0.04745166959578207\n",
      "dataset datasets/cancer.csv: k = 2, LOO = 0.04745166959578207\n",
      "dataset datasets/cancer.csv: k = 3, LOO = 0.029876977152899824\n",
      "dataset datasets/cancer.csv: k = 4, LOO = 0.028119507908611598\n",
      "dataset datasets/cancer.csv: k = 5, LOO = 0.033391915641476276\n",
      "dataset datasets/cancer.csv: k = 6, LOO = 0.03163444639718805\n",
      "dataset datasets/cancer.csv: k = 7, LOO = 0.029876977152899824\n",
      "dataset datasets/cancer.csv: k = 8, LOO = 0.029876977152899824\n",
      "dataset datasets/cancer.csv: k = 9, LOO = 0.029876977152899824\n",
      "dataset datasets/cancer.csv: k = 10, LOO = 0.026362038664323375\n"
     ]
    },
    {
     "name": "stderr",
     "output_type": "stream",
     "text": [
      "/Users/itukh/miniconda3/envs/py37/lib/python3.7/site-packages/sklearn/preprocessing/data.py:334: DataConversionWarning: Data with input dtype int64, float64 were all converted to float64 by MinMaxScaler.\n",
      "  return self.partial_fit(X, y)\n"
     ]
    },
    {
     "data": {
      "application/vnd.jupyter.widget-view+json": {
       "model_id": "88ffa6f8372c42a390f1674954cfc590",
       "version_major": 2,
       "version_minor": 0
      },
      "text/plain": [
       "HBox(children=(IntProgress(value=0, max=4601), HTML(value='')))"
      ]
     },
     "metadata": {},
     "output_type": "display_data"
    },
    {
     "name": "stdout",
     "output_type": "stream",
     "text": [
      "\n",
      "dataset datasets/spam.csv: k = 1, LOO = 0.08758965442295154\n",
      "dataset datasets/spam.csv: k = 2, LOO = 0.08758965442295154\n",
      "dataset datasets/spam.csv: k = 3, LOO = 0.09476200825907412\n",
      "dataset datasets/spam.csv: k = 4, LOO = 0.08911106281243208\n",
      "dataset datasets/spam.csv: k = 5, LOO = 0.09519669637035427\n",
      "dataset datasets/spam.csv: k = 6, LOO = 0.08911106281243208\n",
      "dataset datasets/spam.csv: k = 7, LOO = 0.09932623342751576\n",
      "dataset datasets/spam.csv: k = 8, LOO = 0.09063247120191263\n",
      "dataset datasets/spam.csv: k = 9, LOO = 0.1019343620951967\n",
      "dataset datasets/spam.csv: k = 10, LOO = 0.0969354488154749\n"
     ]
    }
   ],
   "source": [
    "for dataset in DATASETS[:2]:\n",
    "    results.append((dataset, get_LOO(os.path.join(DATASETS_DIR, dataset), 10, scale=True)))"
   ]
  },
  {
   "cell_type": "markdown",
   "metadata": {},
   "source": [
    "And finally, let's see plots"
   ]
  },
  {
   "cell_type": "code",
   "execution_count": 68,
   "metadata": {},
   "outputs": [
    {
     "data": {
      "image/png": "[encoded data removed]",
      "text/plain": [
       "<Figure size 432x288 with 1 Axes>"
      ]
     },
     "metadata": {
      "needs_background": "light"
     },
     "output_type": "display_data"
    }
   ],
   "source": [
    "plt.clf()\n",
    "plt.xlabel('k')\n",
    "plt.ylabel('LOO')\n",
    "plt.title('kNN results')\n",
    "ks = list(range(1, 11))\n",
    "plt.plot(ks, [results[0][1][k] for k in ks], label = 'cancer')\n",
    "plt.plot(ks, [results[2][1][k] for k in ks], label = 'cancer with scaling')\n",
    "plt.legend()\n",
    "plt.show()"
   ]
  },
  {
   "cell_type": "code",
   "execution_count": 69,
   "metadata": {},
   "outputs": [
    {
     "data": {
      "image/png": "[encoded data removed]",
      "text/plain": [
       "<Figure size 432x288 with 1 Axes>"
      ]
     },
     "metadata": {
      "needs_background": "light"
     },
     "output_type": "display_data"
    }
   ],
   "source": [
    "plt.clf()\n",
    "plt.xlabel('k')\n",
    "plt.ylabel('LOO')\n",
    "plt.title('kNN results')\n",
    "ks = list(range(1, 11))\n",
    "plt.plot(ks, [results[1][1][k] for k in ks], label = 'spam')\n",
    "plt.plot(ks, [results[3][1][k] for k in ks], label = 'spam with scaling')\n",
    "plt.legend()\n",
    "plt.show()"
   ]
  },
  {
   "cell_type": "markdown",
   "metadata": {},
   "source": [
    "#### 3) (2) Implement the k-means algorithm and cluster data point into [2,3,4,5] clusters."
   ]
  },
  {
   "cell_type": "code",
   "execution_count": null,
   "metadata": {},
   "outputs": [],
   "source": []
  }
 ],
 "metadata": {
  "kernelspec": {
   "display_name": "Python 3",
   "language": "python",
   "name": "python3"
  },
  "language_info": {
   "codemirror_mode": {
    "name": "ipython",
    "version": 3
   },
   "file_extension": ".py",
   "mimetype": "text/x-python",
   "name": "python",
   "nbconvert_exporter": "python",
   "pygments_lexer": "ipython3",
   "version": "3.7.3"
  }
 },
 "nbformat": 4,
 "nbformat_minor": 2
}
