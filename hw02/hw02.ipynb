{
 "cells": [
  {
   "cell_type": "markdown",
   "metadata": {},
   "source": [
    "# HSE 2019 ML (bachelors 3rd course)\n",
    "## Homework #2\n",
    "### Student: Igor Tukh"
   ]
  },
  {
   "cell_type": "markdown",
   "metadata": {},
   "source": [
    "### VC-theory"
   ]
  },
  {
   "cell_type": "markdown",
   "metadata": {},
   "source": [
    "#### 1) (2 points) Identify breakpoints, VC-dimensions and growth functions of following hypotheses:"
   ]
  },
  {
   "cell_type": "markdown",
   "metadata": {},
   "source": [
    "#### a) $$h(x) = +1\\;\\textrm{if}\\;x_i > a$$\n",
    "#### b) $$h(x) = +1\\;\\textrm{if}\\;b > x_i > a$$"
   ]
  },
  {
   "cell_type": "markdown",
   "metadata": {},
   "source": [
    "#### Solution:\n",
    "\n",
    "$$m_{H}(N) = \\max |H(\\textbf{x}_{1}, \\dots, \\textbf{x}_{2})|$$\n",
    "\n",
    "$$d_{vc}(H) = \\max\\{N\\;|\\;m_{H}(N) = 2^{N}\\}$$\n",
    "\n",
    "$$\\textrm{breakpoint} = \\min\\{k\\;|\\;m_{H}(k) < 2^{k}\\} = d_{vc}(H) + 1$$"
   ]
  },
  {
   "cell_type": "markdown",
   "metadata": {},
   "source": [
    "Here and further $x_k$ is a designation for $x_{k, i}$, where the index i is from the statement and $x_{k, i}$ is a value of the ith feature of kth point."
   ]
  },
  {
   "cell_type": "markdown",
   "metadata": {},
   "source": [
    "$\\textbf{a)}$\n",
    "\n",
    "In this case, breakpoint is obviously 2. Let's prove it:\n",
    "\n",
    "Let's assume $k = 1 \\Rightarrow$ there are two cases $h(x_0) = -1$ and $h(x_0) = +1$ and both of them are possible\n",
    "\n",
    "Let's assume $k = 2$ and we have two points: $x_0 < x_1$ (if $x_0 = x_1, h(x_0) \\ne h(x_1)$ cases aren't possible)\n",
    "\n",
    "In this case $h(x_0) = +1 \\Rightarrow h(x_1) = +1$, so $h(x_1) = -1, h(x_0) = +1$ isn't possible case. So breakpoint is 2."
   ]
  },
  {
   "cell_type": "markdown",
   "metadata": {},
   "source": [
    "So $d_{vc} = 2 - 1 = 1$ "
   ]
  },
  {
   "cell_type": "markdown",
   "metadata": {},
   "source": [
    "$m_{H}(N) = N + 1$. Let's prove.\n",
    "\n",
    "Let's assume we have $x_0 \\leq x_1 \\leq \\dots \\leq x_{N - 1}$. Possible dichotomies should have the following form (and all such forms are possible):\n",
    "\n",
    "\\begin{equation}\n",
    "    \\begin{cases}\n",
    "        h(x_i) = +1, i \\geq k \\\\\n",
    "        h(x_i) = -1, \\;\\textrm{otherwise}\\; \\\\\n",
    "    \\end{cases}\n",
    "    \\;\\textrm{for all}\\;0 \\leq k \\leq N\n",
    "\\end{equation}\n",
    "\n",
    "Amount of such dichotomies is exactly $N + 1$"
   ]
  },
  {
   "cell_type": "markdown",
   "metadata": {},
   "source": [
    "$\\textbf{b)}$"
   ]
  },
  {
   "cell_type": "markdown",
   "metadata": {},
   "source": [
    "In this case, breakpoint is obviously 3. Let's prove it:\n",
    "\n",
    "Let's notice that for $k = 1$ and $k = 2 (x_0 < x_1)$ all the dichotomies are possible.\n",
    "\n",
    "In the case $k = 3$ and $x_0 \\leq x_1 \\leq x_2$ case $h(x_0) = +1, h(x_1) = -1, h(x_2) = +1$ isn't possible, so $k = 3$ is a breakpoint."
   ]
  },
  {
   "cell_type": "markdown",
   "metadata": {},
   "source": [
    "$d_{vc} = 3 - 1 = 2$"
   ]
  },
  {
   "cell_type": "markdown",
   "metadata": {},
   "source": [
    "Let's assume we have $x_0 \\leq x_1 \\leq \\dots \\leq x_{N}$\n",
    "\n",
    "Lets prove lemma: the dichotomy is possible if and only if there are no three indexes $i < j < k: h(x_{i}) = h(x_{k}) = +1, h(x_j) = -1$ and there are no such index $k: x_{k} = x_{k + 1}$ and $h(x_k) \\ne h(x_{k + 1})$\n",
    "\n",
    "If there are no such indexes, we can chose $a = x_{i} - \\varepsilon, b = x_{j} + \\varepsilon$, where $x_{i}$ is the lowest point: $x_{k} = +1$ and $x_j$ is the greatest such index and $\\varepsilon < \\min(x_{i} - x_{i - 1}, x_{j + 1} - x_{j})$ (if $i = 0$ or $j = N - 1$, appropriate value is $10^{-9}$). If there are no such index $k : x_{k} = +1$, $a = b = x_{0} - 1$. Anyway, it is correct dichotomy for such h values.\n",
    "\n",
    "If such indexes exist, it is an obviously incorrect dichotomy."
   ]
  },
  {
   "cell_type": "markdown",
   "metadata": {},
   "source": [
    "Now let's assume that there are no equal $x_i$. How much of dichotomies satisfy the lemma? As we just have understood, $\\{i: x_i = +1\\}$ is a continuous subrange of $[0; N - 1]$ or doesn't exist. So it is $1 + \\sum\\limits_{l = 0}^{N - 1} (N - l) = 1 + \\frac{N \\cdot (N + 1)}{2}$\n",
    "\n",
    "If some of $x_i$ are equal, amount of the correct dichotomies is obviously less.\n",
    "\n",
    "So $m_{H}(N) = \\frac{N \\cdot (N + 1)}{2} + 1$ (and breakpoint calculated above satisfy it)."
   ]
  },
  {
   "cell_type": "markdown",
   "metadata": {},
   "source": [
    "### Perceptron"
   ]
  },
  {
   "cell_type": "code",
   "execution_count": null,
   "metadata": {},
   "outputs": [],
   "source": []
  }
 ],
 "metadata": {
  "kernelspec": {
   "display_name": "Python 3",
   "language": "python",
   "name": "python3"
  },
  "language_info": {
   "codemirror_mode": {
    "name": "ipython",
    "version": 3
   },
   "file_extension": ".py",
   "mimetype": "text/x-python",
   "name": "python",
   "nbconvert_exporter": "python",
   "pygments_lexer": "ipython3",
   "version": "3.7.3"
  }
 },
 "nbformat": 4,
 "nbformat_minor": 2
}
