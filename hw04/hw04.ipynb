{
 "cells": [
  {
   "cell_type": "markdown",
   "metadata": {},
   "source": [
    "# HSE 2019 ML (bachelors 3rd course)\n",
    "## Homework #4\n",
    "### Student: Igor Tukh"
   ]
  },
  {
   "cell_type": "code",
   "execution_count": 1,
   "metadata": {},
   "outputs": [],
   "source": [
    "import numpy as np\n",
    "import pandas as pd\n",
    "import matplotlib.pyplot as plt\n",
    "\n",
    "import os"
   ]
  },
  {
   "cell_type": "code",
   "execution_count": 36,
   "metadata": {},
   "outputs": [],
   "source": [
    "from tqdm import tqdm_notebook as tqdm\n",
    "from collections import defaultdict"
   ]
  },
  {
   "cell_type": "code",
   "execution_count": 3,
   "metadata": {},
   "outputs": [],
   "source": [
    "DATASETS_DIR = 'datasets'\n",
    "\n",
    "def load_csv_dataset(dataset_name, label_name='label', with_header=True):    \n",
    "    dataset_path = os.path.join(DATASETS_DIR, dataset_name)\n",
    "    if label_name is not None:\n",
    "        dataset = pd.read_csv(dataset_path)\n",
    "        data_columns = np.array([name for name in dataset.columns if name != label_name])\n",
    "        return dataset[data_columns], dataset[np.array([label_name])]\n",
    "    else:\n",
    "        return pd.read_csv(dataset_path) if with_header else pd.read_csv(dataset_path, header=None)"
   ]
  },
  {
   "cell_type": "markdown",
   "metadata": {},
   "source": [
    "### Regression\n",
    "\n",
    "#### Datasets: noisysine.csv, hydrodynamics.csv. Both should be split into train and validate datasets (80% / 20%).\n",
    "\n",
    "#### In every task, you need to calculate the $R^2$ score (for both datasets) and draw the resulting function on the noisysine dataset.\n"
   ]
  },
  {
   "cell_type": "markdown",
   "metadata": {},
   "source": [
    "#### 1) (3) Implement linear and polynomial regression algorithms (for noisysine use the powers from 2 to 5, for hydrodynamics use the power of 2). No regularization. "
   ]
  },
  {
   "cell_type": "markdown",
   "metadata": {},
   "source": [
    "#### 2) (2) Implement a ridge regression algorithm and optimize the regularization parameter for every case from task #1."
   ]
  },
  {
   "cell_type": "markdown",
   "metadata": {},
   "source": [
    "#### 3) (3) Use the LASSO regression algorithm for every case from task #1 (i.e., from the sklearn library). Output the number of used features."
   ]
  },
  {
   "cell_type": "markdown",
   "metadata": {},
   "source": [
    "### Global and Local Search\n",
    "#### Dataset: tsp.csv - coordinates of points to visit.\n",
    "#### In every task, you need to visualize the best-found path and output its length. The path is not cyclical, i.e., the starting and finishing points are not the same.\n",
    "\n",
    "#### NOTICE - the distance should be in L1 (avenues and streets). The path should be drawn as L1 as well."
   ]
  },
  {
   "cell_type": "code",
   "execution_count": 4,
   "metadata": {},
   "outputs": [],
   "source": [
    "def plot_route(points, route, plot_name=''):\n",
    "    plt.clf()\n",
    "    plt.scatter(points[:, 0], points[:, 1])\n",
    "    plt.title(plot_name)\n",
    "    for cur_point_ind, next_point_ind in zip(route[:-1], route[1:]):\n",
    "        plt.plot([points[cur_point_ind][0], points[next_point_ind][0]],\n",
    "                 [points[cur_point_ind][1], points[cur_point_ind][1]], color='black')\n",
    "        plt.plot([points[next_point_ind][0], points[next_point_ind][0]],\n",
    "                 [points[cur_point_ind][1], points[next_point_ind][1]], color='black')\n",
    "    plt.show()"
   ]
  },
  {
   "cell_type": "code",
   "execution_count": 5,
   "metadata": {},
   "outputs": [],
   "source": [
    "np.random.seed(2392)"
   ]
  },
  {
   "cell_type": "code",
   "execution_count": 6,
   "metadata": {},
   "outputs": [],
   "source": [
    "def get_manhattan_distance(first, second):\n",
    "    return np.sum([np.abs(first[i] - second[i]) for i in range(first.shape[0])])"
   ]
  },
  {
   "cell_type": "code",
   "execution_count": 7,
   "metadata": {},
   "outputs": [],
   "source": [
    "def get_route_length(points, route):\n",
    "    return np.sum([get_manhattan_distance(points[first], points[second]) \n",
    "                   for first, second in zip(route[:-1], route[1:])])"
   ]
  },
  {
   "cell_type": "code",
   "execution_count": 8,
   "metadata": {},
   "outputs": [],
   "source": [
    "def prepare_points():\n",
    "    X = load_csv_dataset('tsp.csv', label_name=None, with_header=False)\n",
    "    X = X.to_numpy()[:, [1, 2]].reshape(-1, 2)\n",
    "    return X"
   ]
  },
  {
   "cell_type": "markdown",
   "metadata": {},
   "source": [
    "Let's look at the initial order"
   ]
  },
  {
   "cell_type": "code",
   "execution_count": 9,
   "metadata": {},
   "outputs": [
    {
     "data": {
      "image/png": "[encoded data removed]",
      "text/plain": [
       "<Figure size 432x288 with 1 Axes>"
      ]
     },
     "metadata": {
      "needs_background": "light"
     },
     "output_type": "display_data"
    },
    {
     "name": "stdout",
     "output_type": "stream",
     "text": [
      "Length: 27815\n"
     ]
    }
   ],
   "source": [
    "def plot_initial():\n",
    "    X = prepare_points()\n",
    "    plot_route(X, np.arange(X.shape[0]))\n",
    "    print('Length: {}'.format(get_route_length(X, np.arange(X.shape[0]))))\n",
    "\n",
    "plot_initial()"
   ]
  },
  {
   "cell_type": "markdown",
   "metadata": {},
   "source": [
    "#### 4) (2) Implement a Monte-Carlo search."
   ]
  },
  {
   "cell_type": "code",
   "execution_count": 10,
   "metadata": {},
   "outputs": [],
   "source": [
    "def get_monte_carlo_search_route(points, iterations_amount=10**5):\n",
    "    n = points.shape[0]\n",
    "    current_perm = np.random.permutation(n)\n",
    "    current_length = get_route_length(points, current_perm)\n",
    "    for _ in tqdm(range(iterations_amount)):\n",
    "        next_perm = np.random.permutation(n)\n",
    "        next_length = get_route_length(points, next_perm)\n",
    "        if next_length < current_length:\n",
    "            current_length = next_length\n",
    "            current_perm = next_perm\n",
    "    \n",
    "    return current_perm, current_length"
   ]
  },
  {
   "cell_type": "code",
   "execution_count": 11,
   "metadata": {},
   "outputs": [
    {
     "data": {
      "application/vnd.jupyter.widget-view+json": {
       "model_id": "6bda354cae2445fea5c5481dde58ebd5",
       "version_major": 2,
       "version_minor": 0
      },
      "text/plain": [
       "HBox(children=(IntProgress(value=0, max=100000), HTML(value='')))"
      ]
     },
     "metadata": {},
     "output_type": "display_data"
    },
    {
     "name": "stdout",
     "output_type": "stream",
     "text": [
      "\n"
     ]
    },
    {
     "data": {
      "image/png": "[encoded data removed]",
      "text/plain": [
       "<Figure size 432x288 with 1 Axes>"
      ]
     },
     "metadata": {
      "needs_background": "light"
     },
     "output_type": "display_data"
    },
    {
     "name": "stdout",
     "output_type": "stream",
     "text": [
      "Length: 26695\n"
     ]
    }
   ],
   "source": [
    "def task4():\n",
    "    X = prepare_points()\n",
    "    route, length = get_monte_carlo_search_route(X)\n",
    "    plot_route(X, route, 'Monte Carlo search')\n",
    "    print('Length: {}'.format(length))\n",
    "    \n",
    "task4()"
   ]
  },
  {
   "cell_type": "markdown",
   "metadata": {},
   "source": [
    "As we can see, Monte Carlo search with $10^6$ iterations is a bit better than the initial order"
   ]
  },
  {
   "cell_type": "markdown",
   "metadata": {},
   "source": [
    "#### 5) (2) Implement a random walk search."
   ]
  },
  {
   "cell_type": "markdown",
   "metadata": {},
   "source": [
    "Let's implement a random walk, where we choice random (with distribution ~ inverse distances) neighbor (not visited yet point). And then we will repeat the process several times"
   ]
  },
  {
   "cell_type": "code",
   "execution_count": 12,
   "metadata": {},
   "outputs": [],
   "source": [
    "def random_walk_iteration(points):\n",
    "    n = points.shape[0]\n",
    "    perm = []\n",
    "    visited = np.zeros(n, dtype=np.bool)\n",
    "    prev_point_ind = -1\n",
    "    dists = np.array([[get_manhattan_distance(points[first], points[second]) if first != second else 1 \n",
    "                       for first in range(n)] for second in range(n)])\n",
    "    inv_dists = 1. / dists\n",
    "    for _ in range(n):\n",
    "        not_visited_points = np.where(visited == False)[0]\n",
    "        if prev_point_ind == -1:\n",
    "            next_point_ind = np.random.choice(not_visited_points)\n",
    "        else:\n",
    "            current_dists = inv_dists[prev_point_ind, not_visited_points]\n",
    "            probabilities = current_dists / np.sum(current_dists)\n",
    "            next_point_ind = np.random.choice(not_visited_points, p=probabilities)\n",
    "        perm.append(next_point_ind)\n",
    "        visited[next_point_ind] = True\n",
    "        prev_point_ind = next_point_ind\n",
    "        \n",
    "    return np.array(perm)\n",
    "\n",
    "def get_random_walk_route(points, iterations_amount=10**3):\n",
    "    current_perm = None\n",
    "    current_length = 0\n",
    "    for _ in tqdm(range(iterations_amount)):\n",
    "        perm = random_walk_iteration(points)\n",
    "        length = get_route_length(points, perm)\n",
    "        if current_perm is None or length < current_length:\n",
    "            current_length = length\n",
    "            current_perm = perm\n",
    "    \n",
    "    return current_perm, current_length"
   ]
  },
  {
   "cell_type": "code",
   "execution_count": 15,
   "metadata": {},
   "outputs": [
    {
     "data": {
      "application/vnd.jupyter.widget-view+json": {
       "model_id": "6ea48754d621428bada9153f89ff4e9b",
       "version_major": 2,
       "version_minor": 0
      },
      "text/plain": [
       "HBox(children=(IntProgress(value=0, max=1000), HTML(value='')))"
      ]
     },
     "metadata": {},
     "output_type": "display_data"
    },
    {
     "name": "stdout",
     "output_type": "stream",
     "text": [
      "\n"
     ]
    },
    {
     "data": {
      "image/png": "[encoded data removed]",
      "text/plain": [
       "<Figure size 432x288 with 1 Axes>"
      ]
     },
     "metadata": {
      "needs_background": "light"
     },
     "output_type": "display_data"
    },
    {
     "name": "stdout",
     "output_type": "stream",
     "text": [
      "Length: 20765\n"
     ]
    }
   ],
   "source": [
    "def task5():\n",
    "    X = prepare_points()\n",
    "    route, length = get_random_walk_route(X)\n",
    "    plot_route(X, route, 'Random walk')\n",
    "    print('Length: {}'.format(length))\n",
    "\n",
    "task5()"
   ]
  },
  {
   "cell_type": "markdown",
   "metadata": {},
   "source": [
    "As we can see, such a random walk is much better than the Monte Carlo search and initial order both"
   ]
  },
  {
   "cell_type": "markdown",
   "metadata": {},
   "source": [
    "#### 6) (4) Implement a hill climb algorithm.\n"
   ]
  },
  {
   "cell_type": "code",
   "execution_count": 24,
   "metadata": {},
   "outputs": [],
   "source": [
    "def get_neighbour_permutations(permutation):\n",
    "    n = permutation.shape[0]\n",
    "    pairs_to_swap = [(first, second) for first in range(n) for second in range(n) if first != second]\n",
    "    permutations = []\n",
    "    for first, second in pairs_to_swap:\n",
    "        new_perm = permutation.copy()\n",
    "        new_perm[first], new_perm[second] = new_perm[second], new_perm[first]\n",
    "        permutations.append(new_perm)\n",
    "    return np.array(permutations)\n",
    "\n",
    "def get_hill_climb_route(points, iterations_amount=10, inner_iterations_amount=10):\n",
    "    n = points.shape[0]\n",
    "    best_perm = np.random.permutation(n)\n",
    "    best_score = get_route_length(points, best_perm)\n",
    "    for _ in tqdm(range(iterations_amount)):\n",
    "        perm = np.random.permutation(n)\n",
    "        perm_score = get_route_length(points, perm)\n",
    "        for _ in range(inner_iterations_amount):\n",
    "            next_perms = get_neighbour_permutations(perm)\n",
    "            best_next_perm = None\n",
    "            best_next_perm_score = 0\n",
    "            for next_perm in next_perms:\n",
    "                score = get_route_length(points, next_perm)\n",
    "                if best_next_perm is None or best_next_perm_score > score:\n",
    "                    best_next_perm_score = score\n",
    "                    best_next_perm = next_perm\n",
    "            if best_next_perm_score < perm_score:\n",
    "                perm = best_next_perm\n",
    "                perm_score = best_next_perm_score\n",
    "            else:\n",
    "                break\n",
    "        if perm_score < best_score:\n",
    "            best_score = perm_score\n",
    "            best_perm = perm\n",
    "        print('Current lowest length is {}'.format(best_score))\n",
    "    return best_perm, best_score"
   ]
  },
  {
   "cell_type": "code",
   "execution_count": 25,
   "metadata": {},
   "outputs": [
    {
     "data": {
      "application/vnd.jupyter.widget-view+json": {
       "model_id": "53f6ef7271b2407d95a8255d5f295acb",
       "version_major": 2,
       "version_minor": 0
      },
      "text/plain": [
       "HBox(children=(IntProgress(value=0, max=10), HTML(value='')))"
      ]
     },
     "metadata": {},
     "output_type": "display_data"
    },
    {
     "name": "stdout",
     "output_type": "stream",
     "text": [
      "Current lowest length is 20485\n",
      "Current lowest length is 20000\n",
      "Current lowest length is 20000\n",
      "Current lowest length is 18130\n",
      "Current lowest length is 18130\n",
      "Current lowest length is 18130\n",
      "Current lowest length is 18130\n",
      "Current lowest length is 18130\n",
      "Current lowest length is 18130\n",
      "Current lowest length is 18130\n",
      "\n"
     ]
    },
    {
     "data": {
      "image/png": "[encoded data removed]",
      "text/plain": [
       "<Figure size 432x288 with 1 Axes>"
      ]
     },
     "metadata": {
      "needs_background": "light"
     },
     "output_type": "display_data"
    },
    {
     "name": "stdout",
     "output_type": "stream",
     "text": [
      "Length: 18130\n"
     ]
    }
   ],
   "source": [
    "def task6():\n",
    "    X = prepare_points()\n",
    "    route, length = get_hill_climb_route(X)\n",
    "    plot_route(X, route, 'Hill climb')\n",
    "    print('Length: {}'.format(length))\n",
    "task6()"
   ]
  },
  {
   "cell_type": "markdown",
   "metadata": {},
   "source": [
    "As we can see, hill climb algorithm is better than previous approaches"
   ]
  },
  {
   "cell_type": "markdown",
   "metadata": {},
   "source": [
    "#### 7) (6) Implement a simulated annealing algorithm."
   ]
  },
  {
   "cell_type": "code",
   "execution_count": 35,
   "metadata": {},
   "outputs": [
    {
     "data": {
      "application/vnd.jupyter.widget-view+json": {
       "model_id": "b9801cd946cc4dfdb4dea5d8f3569f3f",
       "version_major": 2,
       "version_minor": 0
      },
      "text/plain": [
       "HBox(children=(IntProgress(value=0, max=10), HTML(value='')))"
      ]
     },
     "metadata": {},
     "output_type": "display_data"
    },
    {
     "data": {
      "image/png": "[encoded data removed]",
      "text/plain": [
       "<Figure size 432x288 with 1 Axes>"
      ]
     },
     "metadata": {
      "needs_background": "light"
     },
     "output_type": "display_data"
    },
    {
     "name": "stdout",
     "output_type": "stream",
     "text": [
      "Length: 11690.0\n"
     ]
    }
   ],
   "source": [
    "def neighbour_delta(points, perm, index):\n",
    "    delta = 0.\n",
    "    if index != 0:\n",
    "        delta += get_manhattan_distance(points[perm[index - 1]], points[perm[index]])\n",
    "    if index != perm.shape[0] - 1:\n",
    "        delta += get_manhattan_distance(points[perm[index]], points[perm[index + 1]])\n",
    "    return delta\n",
    "\n",
    "def get_simulated_annealing_route(points, iterations_amount=10, max_t=1000, min_t=0.05):\n",
    "    n = points.shape[0]\n",
    "    best_perm = np.arange(n)\n",
    "    best_score = get_route_length(points, best_perm)\n",
    "    for _ in tqdm(range(iterations_amount)):\n",
    "        perm = np.random.permutation(n)\n",
    "        current_score = get_route_length(points, perm)\n",
    "        current_t = max_t\n",
    "        iteration_ind = 1\n",
    "        while (current_t > min_t):\n",
    "            pair_to_swap = np.random.choice(perm, 2, replace=False)\n",
    "            current_neighbour_delta = neighbour_delta(points, perm, pair_to_swap[0]) + \\\n",
    "                neighbour_delta(points, perm, pair_to_swap[1])\n",
    "            perm[pair_to_swap[0]], perm[pair_to_swap[1]] = perm[pair_to_swap[1]], perm[pair_to_swap[0]]\n",
    "            delta_length = neighbour_delta(points, perm, pair_to_swap[0]) + \\\n",
    "                neighbour_delta(points, perm, pair_to_swap[1]) - current_neighbour_delta\n",
    "            perm[pair_to_swap[0]], perm[pair_to_swap[1]] = perm[pair_to_swap[1]], perm[pair_to_swap[0]]\n",
    "            if delta_length < 0 or np.random.uniform(0, 1) < np.exp(-delta_length / current_t):\n",
    "                perm[pair_to_swap[0]], perm[pair_to_swap[1]] = perm[pair_to_swap[1]], perm[pair_to_swap[0]]\n",
    "                current_score += delta_length\n",
    "            current_t = max_t / (iteration_ind + 1)\n",
    "            iteration_ind += 1\n",
    "        if best_score > current_score:\n",
    "            best_score = current_score\n",
    "            best_perm = perm\n",
    "    return best_perm, best_score\n",
    "\n",
    "def task7():\n",
    "    X = prepare_points()\n",
    "    route, length = get_simulated_annealing_route(X)\n",
    "    plot_route(X, route, 'Simulated annealing')\n",
    "    print('Length: {}'.format(length))\n",
    "\n",
    "task7()"
   ]
  },
  {
   "cell_type": "markdown",
   "metadata": {},
   "source": [
    "As we can see, simulated annealing is also better than the previous algorithms"
   ]
  },
  {
   "cell_type": "markdown",
   "metadata": {},
   "source": [
    "#### 8) (8) Implement a genetic algorithm."
   ]
  },
  {
   "cell_type": "code",
   "execution_count": null,
   "metadata": {},
   "outputs": [
    {
     "data": {
      "application/vnd.jupyter.widget-view+json": {
       "model_id": "c497760b70ec4a479dda6c195f9f1b77",
       "version_major": 2,
       "version_minor": 0
      },
      "text/plain": [
       "HBox(children=(IntProgress(value=0), HTML(value='')))"
      ]
     },
     "metadata": {},
     "output_type": "display_data"
    },
    {
     "name": "stdout",
     "output_type": "stream",
     "text": [
      "Gen: 0, best being length: 29530\n",
      "Gen: 10, best being length: 16940\n"
     ]
    }
   ],
   "source": [
    "def crossover(first, second):\n",
    "    in_first = defaultdict(lambda: -1)\n",
    "    in_second = defaultdict(lambda: -1)\n",
    "    n = first.shape[0]\n",
    "    for ind in range(n):\n",
    "        in_first[first[ind]] = ind\n",
    "        in_second[second[ind]] = ind\n",
    "    indexes = np.array([in_first[ind] if np.random.uniform(0, 1) < 0.5 else in_second[ind] \n",
    "                        for ind in range(n)])\n",
    "    real_indexes = np.argsort(indexes)\n",
    "    return np.arange(n)[real_indexes]\n",
    "\n",
    "def get_genetic_algirithm_route(points, population_size=75, generations_amount=1000,\n",
    "                                mutations_percent=0.05, to_swap_in_mutation=6,\n",
    "                                best_percent=0.5, new_beings_percent=0.10):\n",
    "    n = points.shape[0]\n",
    "    population = np.array([np.random.permutation(n) for _ in range(population_size)])\n",
    "    for gen_ind in tqdm(range(generations_amount)):\n",
    "        best_beings_amount = int(population.shape[0] * population.shape[0])\n",
    "        new_beings_amount = int(population.shape[0] * population.shape[0])\n",
    "        scores = np.array([get_route_length(points, route) for route in population])\n",
    "        indexes = np.argsort(scores)\n",
    "        best_beings = population[:best_beings_amount, :]\n",
    "        for _ in range(new_beings_amount):\n",
    "            f, s = tuple(np.random.choice(best_beings.shape[0], 2, replace=False))\n",
    "            new_being = crossover(best_beings[f], best_beings[s])\n",
    "            population = np.concatenate([population, [new_being]])\n",
    "        mutations_amount = int(population.shape[0] * mutations_percent)\n",
    "        for _ in range(mutations_amount):\n",
    "            mutation_ind = np.random.randint(0, population.shape[0])\n",
    "            for _ in range(np.random.randint(0, to_swap_in_mutation)):\n",
    "                f, s = tuple(np.random.choice(population[mutation_ind].shape[0], 2, replace=False))\n",
    "                population[mutation_ind][f], population[mutation_ind][s] = \\\n",
    "                    population[mutation_ind][s], population[mutation_ind][f]\n",
    "        scores = np.array([get_route_length(points, route) for route in population])\n",
    "        population = population[np.argsort(scores)][0:population_size, :]\n",
    "        if gen_ind % 10 == 0 or gen_ind == generations_amount - 1:\n",
    "            print('Gen: {}, best being length: {}'.format(gen_ind, np.min(scores)))\n",
    "        \n",
    "    scores = np.array([get_route_length(points, route) for route in population])\n",
    "    indexes = np.argsort(scores)\n",
    "    return (population[indexes])[0], (scores[indexes])[0]\n",
    "        \n",
    "def task7():\n",
    "    X = prepare_points()\n",
    "    route, length = get_genetic_algirithm_route(X, generations_amount=100)\n",
    "    plot_route(X, route, 'Genetic algorithm')\n",
    "    print('Length: {}'.format(length))\n",
    "\n",
    "task7()"
   ]
  }
 ],
 "metadata": {
  "kernelspec": {
   "display_name": "Python 3",
   "language": "python",
   "name": "python3"
  },
  "language_info": {
   "codemirror_mode": {
    "name": "ipython",
    "version": 3
   },
   "file_extension": ".py",
   "mimetype": "text/x-python",
   "name": "python",
   "nbconvert_exporter": "python",
   "pygments_lexer": "ipython3",
   "version": "3.7.3"
  }
 },
 "nbformat": 4,
 "nbformat_minor": 2
}
