{
 "cells": [
  {
   "cell_type": "markdown",
   "metadata": {},
   "source": [
    "# HSE 2019 ML (bachelors 3rd course)\n",
    "## Homework #4\n",
    "### Student: Igor Tukh"
   ]
  },
  {
   "cell_type": "code",
   "execution_count": 22,
   "metadata": {},
   "outputs": [],
   "source": [
    "import numpy as np\n",
    "import pandas as pd\n",
    "import matplotlib.pyplot as plt\n",
    "\n",
    "import os"
   ]
  },
  {
   "cell_type": "code",
   "execution_count": 35,
   "metadata": {},
   "outputs": [],
   "source": [
    "from tqdm import tqdm_notebook as tqdm"
   ]
  },
  {
   "cell_type": "code",
   "execution_count": 16,
   "metadata": {},
   "outputs": [],
   "source": [
    "DATASETS_DIR = 'datasets'\n",
    "\n",
    "def load_csv_dataset(dataset_name, label_name='label', with_header=True):    \n",
    "    dataset_path = os.path.join(DATASETS_DIR, dataset_name)\n",
    "    if label_name is not None:\n",
    "        dataset = pd.read_csv(dataset_path)\n",
    "        data_columns = np.array([name for name in dataset.columns if name != label_name])\n",
    "        return dataset[data_columns], dataset[np.array([label_name])]\n",
    "    else:\n",
    "        return pd.read_csv(dataset_path) if with_header else pd.read_csv(dataset_path, header=None)"
   ]
  },
  {
   "cell_type": "markdown",
   "metadata": {},
   "source": [
    "### Global and Local Search\n",
    "#### Dataset: tsp.csv - coordinates of points to visit.\n",
    "#### In every task, you need to visualize the best-found path and output its length. The path is not cyclical, i.e., the starting and finishing points are not the same.\n",
    "\n",
    "#### NOTICE - the distance should be in L1 (avenues and streets). The path should be drawn as L1 as well."
   ]
  },
  {
   "cell_type": "code",
   "execution_count": 49,
   "metadata": {},
   "outputs": [],
   "source": [
    "def plot_route(points, route, plot_name=''):\n",
    "    plt.clf()\n",
    "    plt.scatter(points[:, 0], points[:, 1])\n",
    "    plt.title(plot_name)\n",
    "    for cur_point_ind, next_point_ind in zip(route[:-1], route[1:]):\n",
    "        plt.plot([points[cur_point_ind][0], points[next_point_ind][0]],\n",
    "                 [points[cur_point_ind][1], points[cur_point_ind][1]], color='black')\n",
    "        plt.plot([points[next_point_ind][0], points[next_point_ind][0]],\n",
    "                 [points[cur_point_ind][1], points[next_point_ind][1]], color='black')\n",
    "    plt.show()"
   ]
  },
  {
   "cell_type": "code",
   "execution_count": 24,
   "metadata": {},
   "outputs": [],
   "source": [
    "np.random.seed(2392)"
   ]
  },
  {
   "cell_type": "code",
   "execution_count": 33,
   "metadata": {},
   "outputs": [],
   "source": [
    "def get_manhattan_distance(first, second):\n",
    "    return np.sum([np.abs(first[i] - second[i]) for i in range(first.shape[0])])"
   ]
  },
  {
   "cell_type": "code",
   "execution_count": 34,
   "metadata": {},
   "outputs": [],
   "source": [
    "def get_route_length(points, route):\n",
    "    return np.sum([get_manhattan_distance(points[first], points[second]) \n",
    "                   for first, second in zip(route[:-1], route[1:])])"
   ]
  },
  {
   "cell_type": "code",
   "execution_count": 61,
   "metadata": {},
   "outputs": [],
   "source": [
    "def prepare_points():\n",
    "    X = load_csv_dataset('tsp.csv', label_name=None, with_header=False)\n",
    "    X = X.to_numpy()[:, [1, 2]].reshape(-1, 2)\n",
    "    return X"
   ]
  },
  {
   "cell_type": "markdown",
   "metadata": {},
   "source": [
    "Let's look at the initial order"
   ]
  },
  {
   "cell_type": "code",
   "execution_count": 62,
   "metadata": {},
   "outputs": [
    {
     "data": {
      "image/png": "[encoded data removed]",
      "text/plain": [
       "<Figure size 432x288 with 1 Axes>"
      ]
     },
     "metadata": {
      "needs_background": "light"
     },
     "output_type": "display_data"
    },
    {
     "name": "stdout",
     "output_type": "stream",
     "text": [
      "Length: 27815\n"
     ]
    }
   ],
   "source": [
    "def plot_initial():\n",
    "    X = prepare_points()\n",
    "    plot_route(X, np.arange(X.shape[0]))\n",
    "    print('Length: {}'.format(get_route_length(X, np.arange(X.shape[0]))))\n",
    "\n",
    "plot_initial()"
   ]
  },
  {
   "cell_type": "markdown",
   "metadata": {},
   "source": [
    "#### 4) (2) Implement a Monte-Carlo search."
   ]
  },
  {
   "cell_type": "code",
   "execution_count": 39,
   "metadata": {},
   "outputs": [],
   "source": [
    "def get_monte_carlo_search_route(points, iterations_amount=10**5):\n",
    "    n = points.shape[0]\n",
    "    current_perm = np.random.permutation(n)\n",
    "    current_length = get_route_length(points, current_perm)\n",
    "    for _ in tqdm(range(iterations_amount)):\n",
    "        next_perm = np.random.permutation(n)\n",
    "        next_length = get_route_length(points, next_perm)\n",
    "        if next_length < current_length:\n",
    "            current_length = next_length\n",
    "            current_perm = next_perm\n",
    "    \n",
    "    return current_perm, current_length"
   ]
  },
  {
   "cell_type": "code",
   "execution_count": 63,
   "metadata": {},
   "outputs": [
    {
     "data": {
      "application/vnd.jupyter.widget-view+json": {
       "model_id": "a9f3c35ad64f4ba482baaf978e996375",
       "version_major": 2,
       "version_minor": 0
      },
      "text/plain": [
       "HBox(children=(IntProgress(value=0, max=100000), HTML(value='')))"
      ]
     },
     "metadata": {},
     "output_type": "display_data"
    },
    {
     "data": {
      "image/png": "[encoded data removed]",
      "text/plain": [
       "<Figure size 432x288 with 1 Axes>"
      ]
     },
     "metadata": {
      "needs_background": "light"
     },
     "output_type": "display_data"
    },
    {
     "name": "stdout",
     "output_type": "stream",
     "text": [
      "Length: 27075\n"
     ]
    }
   ],
   "source": [
    "def task4():\n",
    "    X = prepare_points()\n",
    "    route, length = get_monte_carlo_search_route(X)\n",
    "    plot_route(X, route, 'Monte Carlo search')\n",
    "    print('Length: {}'.format(length))\n",
    "    \n",
    "task4()"
   ]
  },
  {
   "cell_type": "markdown",
   "metadata": {},
   "source": [
    "As we can see, Monte Carlo search with $10^6$ iterations is a bit better than the initial order"
   ]
  },
  {
   "cell_type": "markdown",
   "metadata": {},
   "source": [
    "#### 5) (2) Implement a random walk search."
   ]
  },
  {
   "cell_type": "markdown",
   "metadata": {},
   "source": [
    "Let's implement a random walk, where we choice random (with distribution ~ inverse distances) neighbor (not visited yet point). And then we will repeat the process several times"
   ]
  },
  {
   "cell_type": "code",
   "execution_count": 104,
   "metadata": {},
   "outputs": [],
   "source": [
    "def random_walk_iteration(points):\n",
    "    n = points.shape[0]\n",
    "    perm = []\n",
    "    visited = np.zeros(n, dtype=np.bool)\n",
    "    prev_point_ind = -1\n",
    "    dists = np.array([[get_manhattan_distance(points[first], points[second]) if first != second else 1 \n",
    "                       for first in range(n)] for second in range(n)])\n",
    "    inv_dists = 1. / dists\n",
    "    for _ in range(n):\n",
    "        not_visited_points = np.where(visited == False)[0]\n",
    "        if prev_point_ind == -1:\n",
    "            next_point_ind = np.random.choice(not_visited_points)\n",
    "        else:\n",
    "            current_dists = inv_dists[prev_point_ind, not_visited_points]\n",
    "            probabilities = current_dists / np.sum(current_dists)\n",
    "            next_point_ind = np.random.choice(not_visited_points, p=probabilities)\n",
    "        perm.append(next_point_ind)\n",
    "        visited[next_point_ind] = True\n",
    "        prev_point_ind = next_point_ind\n",
    "        \n",
    "    return np.array(perm)\n",
    "\n",
    "def get_random_walk_route(points, iterations_amount=10**3):\n",
    "    current_perm = None\n",
    "    current_length = 0\n",
    "    for _ in tqdm(range(iterations_amount)):\n",
    "        perm = random_walk_iteration(points)\n",
    "        length = get_route_length(points, perm)\n",
    "        if current_perm is None or length < current_length:\n",
    "            current_length = length\n",
    "            current_perm = perm\n",
    "    \n",
    "    return current_perm, current_length"
   ]
  },
  {
   "cell_type": "code",
   "execution_count": 105,
   "metadata": {},
   "outputs": [
    {
     "data": {
      "application/vnd.jupyter.widget-view+json": {
       "model_id": "1ad34b2d672445d097bd0e90c9a78b40",
       "version_major": 2,
       "version_minor": 0
      },
      "text/plain": [
       "HBox(children=(IntProgress(value=0, max=1000), HTML(value='')))"
      ]
     },
     "metadata": {},
     "output_type": "display_data"
    },
    {
     "data": {
      "image/png": "[encoded data removed]",
      "text/plain": [
       "<Figure size 432x288 with 1 Axes>"
      ]
     },
     "metadata": {
      "needs_background": "light"
     },
     "output_type": "display_data"
    },
    {
     "name": "stdout",
     "output_type": "stream",
     "text": [
      "Length: 20850\n"
     ]
    }
   ],
   "source": [
    "def task5():\n",
    "    X = prepare_points()\n",
    "    route, length = get_random_walk_route(X)\n",
    "    plot_route(X, route, 'Monte Carlo search')\n",
    "    print('Length: {}'.format(length))\n",
    "\n",
    "task5()"
   ]
  },
  {
   "cell_type": "markdown",
   "metadata": {},
   "source": [
    "As we can see, such a random walk is much better than the Monte Carlo search and initial order both"
   ]
  },
  {
   "cell_type": "markdown",
   "metadata": {},
   "source": [
    "#### 6) (4) Implement a hill climb algorithm.\n"
   ]
  },
  {
   "cell_type": "code",
   "execution_count": null,
   "metadata": {},
   "outputs": [],
   "source": [
    "def task6():\n",
    "    pass\n",
    "\n",
    "task6()"
   ]
  }
 ],
 "metadata": {
  "kernelspec": {
   "display_name": "Python 3",
   "language": "python",
   "name": "python3"
  },
  "language_info": {
   "codemirror_mode": {
    "name": "ipython",
    "version": 3
   },
   "file_extension": ".py",
   "mimetype": "text/x-python",
   "name": "python",
   "nbconvert_exporter": "python",
   "pygments_lexer": "ipython3",
   "version": "3.7.3"
  }
 },
 "nbformat": 4,
 "nbformat_minor": 2
}
